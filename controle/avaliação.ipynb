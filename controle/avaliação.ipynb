{
 "cells": [
  {
   "cell_type": "code",
   "execution_count": 2,
   "metadata": {},
   "outputs": [],
   "source": [
    "import control\n",
    "from control.matlab import *\n",
    "import numpy as np\n",
    "import sympy as sp\n",
    "import json\n",
    "import matplotlib.pyplot as plt\n",
    "import matplotlib as mpl\n",
    "mpl.rcParams['lines.linewidth'] = 1\n",
    "mpl.rcParams['lines.markersize'] = 1\n",
    "%matplotlib inline\n",
    "\n",
    "def mystepinfo(sys, t=None, SettlingTimeThreshold=0.02, RiseTimeLimits=[0.1,0.9]):\n",
    "#     sys = control.timeresp._get_ss_simo(sys)\n",
    "    \n",
    "    t, step_out = control.step_response(sys, t)\n",
    "    step_out = step_out.flatten()\n",
    "        \n",
    "    # Steady state value\n",
    "    InfValue = step_out[-1]\n",
    "    \n",
    "    # RiseTime\n",
    "    tr_lower_index = (np.where(step_out >= RiseTimeLimits[0] * InfValue)[0])[0]\n",
    "    tr_upper_index = (np.where(step_out >= RiseTimeLimits[1] * InfValue)[0])[0]\n",
    "    RiseTime = t[tr_upper_index] - t[tr_lower_index]\n",
    "\n",
    "    # SettlingTime\n",
    "    sup_margin = (1. + SettlingTimeThreshold) * InfValue\n",
    "    inf_margin = (1. - SettlingTimeThreshold) * InfValue\n",
    "    SettlingTime = 0\n",
    "    for i in reversed(range(t.size)):\n",
    "        if (step_out[i] <= inf_margin) | (step_out[i] >= sup_margin):\n",
    "            if t.size > i + 1:\n",
    "                i += 1\n",
    "            SettlingTime = t[i]\n",
    "            break\n",
    "    \n",
    "    # Peak\n",
    "    PeakIndex = np.abs(step_out).argmax()\n",
    "    PeakValue = step_out[PeakIndex]\n",
    "    PeakTime = t[PeakIndex]\n",
    "    SettlingMax = (step_out).max()\n",
    "    SettlingMin = (step_out[tr_upper_index:]).min()\n",
    "    UnderShoot = step_out.min()\n",
    "    OverShoot = 100. * (step_out.max() -InfValue) / (InfValue -step_out[0])\n",
    "    \n",
    "    S = {\n",
    "        'RiseTime': RiseTime,\n",
    "        'SettlingTime': SettlingTime,\n",
    "        'SettlingMin': SettlingMin,\n",
    "        'SettlingMax': SettlingMax,\n",
    "        'Overshoot': OverShoot,\n",
    "        'Undershoot': UnderShoot,\n",
    "        'Peak': PeakValue,\n",
    "        'PeakTime': PeakTime,\n",
    "        'SteadyStateValue': InfValue\n",
    "    }\n",
    "\n",
    "    return S\n",
    "\n",
    "def FOM(S, SettlingTimeThreshold):\n",
    "    # calcula o zeta necessário usando Mp\n",
    "    zeta = -np.log(S['Overshoot'] / 100.) / np.sqrt( np.pi**2 + np.log(S['Overshoot'] / 100.)**2 )\n",
    "    \n",
    "    # calcula o wn necessário usando zeta\n",
    "    try:\n",
    "        wn = np.pi / (S['PeakTime'] * np.sqrt(1 - zeta**2) )\n",
    "    except:\n",
    "        wn = - np.log(SettlingTimeThreshold * np.sqrt(1 - zeta**2)) / (S['SettlingTime'] * zeta)\n",
    "    Fn = wn * 2 * np.pi\n",
    "    wd = wn * np.sqrt(1 - zeta**2)\n",
    "    Fd = wd * 2 * np.pi\n",
    "    \n",
    "    FOM = {\n",
    "        'zeta': zeta,\n",
    "        'wn': wn,\n",
    "        'Fn': Fn,\n",
    "        'wd': wd,\n",
    "        'Fd': Fd\n",
    "    }\n",
    "    return FOM\n",
    "\n",
    "def zplane(sys, color='black'):\n",
    "    t = np.arange(-np.pi, np.pi, 0.01)\n",
    "    ax = np.arange(-1.1, 1.1, 0.01)\n",
    "    plt.plot(np.cos(t), np.sin(t), lw=1)\n",
    "    plt.plot(ax, ax * 0, color='black', lw=1)\n",
    "    plt.plot(ax * 0, ax, color='black', lw=1)\n",
    "\n",
    "    for p in pole(sys):\n",
    "        plt.scatter(p.real, p.imag, marker='x', color=color, lw=1)\n",
    "    for z in zero(sys):\n",
    "        plt.scatter(z.real, z.imag, marker='o', facecolors='none', color=color, lw=1)\n"
   ]
  },
  {
   "cell_type": "markdown",
   "metadata": {},
   "source": [
    "# 1. SISTEMA EM MALHA FECHADA"
   ]
  },
  {
   "cell_type": "markdown",
   "metadata": {},
   "source": [
    "## 1.1 RESPOSTA AO DEGARU\n",
    "![Resposta ao Degrau](SCT2_bloco2/completo/ALL0000/F0000TEK.JPG)"
   ]
  },
  {
   "cell_type": "markdown",
   "metadata": {},
   "source": [
    "## 1.2 TEMPO DE SUBIDA\n",
    "![Tempo de Subida](SCT2_bloco2/completo/ALL0001/F0001TEK.JPG)"
   ]
  },
  {
   "cell_type": "code",
   "execution_count": 3,
   "metadata": {},
   "outputs": [
    {
     "name": "stdout",
     "output_type": "stream",
     "text": [
      "v0 = 1.0 v\n",
      "vinf = 1.51 v\n",
      "deltav = 0.51 v\n",
      "v10 = 1.051 v\n",
      "v90 = 1.459 v\n",
      "t10 = 0.0035 s\n",
      "t90 = 0.0132 s\n",
      "RiseTime = 0.0097 s\n"
     ]
    }
   ],
   "source": [
    "v0 = 1.00\n",
    "print(f'v0 = {v0} v')\n",
    "vinf = 1.51\n",
    "print(f'vinf = {vinf} v')\n",
    "\n",
    "deltav = vinf - v0\n",
    "print(f'deltav = {deltav} v')\n",
    "\n",
    "v10 = deltav * 0.1 + v0\n",
    "v90 = deltav * 0.9 + v0\n",
    "print(f'v10 = {v10} v')\n",
    "print(f'v90 = {v90} v')\n",
    "\n",
    "t10 = 3.5e-3\n",
    "t90 = 13.2e-3\n",
    "print(f't10 = {t10} s')\n",
    "print(f't90 = {t90} s')\n",
    "RiseTime = t90 - t10\n",
    "print(f'RiseTime = {RiseTime} s')"
   ]
  },
  {
   "cell_type": "markdown",
   "metadata": {},
   "source": [
    "## 1.3 TEMPO DE ATRASO\n",
    "![Tempo de Atraso](SCT2_bloco2/completo/ALL0002/F0002TEK.JPG)"
   ]
  },
  {
   "cell_type": "code",
   "execution_count": 4,
   "metadata": {},
   "outputs": [
    {
     "name": "stdout",
     "output_type": "stream",
     "text": [
      "deltav = 0.51 v\n",
      "v50 = 1.255 v\n",
      "Delay = 0.0082 s\n"
     ]
    }
   ],
   "source": [
    "deltav = vinf - v0\n",
    "print(f'deltav = {deltav} v')\n",
    "\n",
    "v50 = deltav * 0.5 + v0\n",
    "print(f'v50 = {v50} v')\n",
    "t50 = 8.2e-3\n",
    "print(f'Delay = {t50} s')"
   ]
  },
  {
   "cell_type": "markdown",
   "metadata": {},
   "source": [
    "## 1.4 PICO E TEMPO DE PICO\n",
    "![Pico e Tempo de Pico](SCT2_bloco2/completo/ALL0003/F0003TEK.JPG)"
   ]
  },
  {
   "cell_type": "code",
   "execution_count": 5,
   "metadata": {},
   "outputs": [
    {
     "name": "stdout",
     "output_type": "stream",
     "text": [
      "PeakTime = 0.0212 s\n",
      "PeakValue = 1.54 v\n",
      "OverShoot = 5.8823529411764754 %\n"
     ]
    }
   ],
   "source": [
    "PeakTime = 21.2e-3\n",
    "print(f'PeakTime = {PeakTime} s')\n",
    "\n",
    "PeakValue = 1.54\n",
    "print(f'PeakValue = {PeakValue} v')\n",
    "\n",
    "OverShoot = 100 * (PeakValue - vinf) / (vinf - v0)\n",
    "print(f'OverShoot = {OverShoot} %')"
   ]
  },
  {
   "cell_type": "markdown",
   "metadata": {},
   "source": [
    "## 1.5 TEMPO DE ACOMODAÇÃO\n",
    "![Tempo de Acomodação](SCT2_bloco2/completo/ALL0005/F0005TEK.JPG)"
   ]
  },
  {
   "cell_type": "code",
   "execution_count": 6,
   "metadata": {},
   "outputs": [
    {
     "name": "stdout",
     "output_type": "stream",
     "text": [
      "sup_margin = 1.5355 v\n",
      "inf_margin = 1.4845 v\n",
      "SettlingTime = 0.0256 s\n"
     ]
    }
   ],
   "source": [
    "SettlingTimeThreshold = 0.05\n",
    "sup_margin = (1. + SettlingTimeThreshold) * deltav +v0\n",
    "inf_margin = (1. - SettlingTimeThreshold) * deltav +v0\n",
    "print(f'sup_margin = {sup_margin} v')\n",
    "print(f'inf_margin = {inf_margin} v')\n",
    "SettlingTime = 25.6e-3\n",
    "print(f'SettlingTime = {SettlingTime} s')"
   ]
  },
  {
   "cell_type": "markdown",
   "metadata": {},
   "source": [
    "## 1.6 FUNÇÃO DE TRANSFERÊNCIA EQUIVALENTE"
   ]
  },
  {
   "cell_type": "code",
   "execution_count": 7,
   "metadata": {},
   "outputs": [
    {
     "name": "stdout",
     "output_type": "stream",
     "text": [
      "zeta = 0.6697192345378495\n",
      "wn = 199.5495007139792\n",
      "zeta_check = 0.6697192345378495\n"
     ]
    }
   ],
   "source": [
    "zeta = -np.log(OverShoot / 100.) / np.sqrt(  (-np.pi)**2 + (np.log(OverShoot / 100.))**2  )\n",
    "wn = np.pi / (PeakTime * np.sqrt(1 - zeta**2) )\n",
    "print(f'zeta = {zeta}')\n",
    "print(f'wn = {wn}')\n",
    "zeta_check = np.sqrt(1 - ((np.pi)/(wn * PeakTime))**2)\n",
    "print(f'zeta_check = {zeta_check}')"
   ]
  },
  {
   "cell_type": "code",
   "execution_count": 9,
   "metadata": {},
   "outputs": [
    {
     "name": "stdout",
     "output_type": "stream",
     "text": [
      "\n",
      "        3.982e+04\n",
      "-------------------------\n",
      "s^2 + 267.3 s + 3.982e+04\n",
      "\n",
      "T.size: 100\n",
      "T.shape: (100,)\n",
      "yout.size: 100\n",
      "yout.shape: (100,)\n",
      "{\n",
      "    \"RiseTime\": 0.010581553289198097,\n",
      "    \"SettlingTime\": 0.024866650229615525,\n",
      "    \"SettlingMin\": 0.9223452999306766,\n",
      "    \"SettlingMax\": 1.058821930048983,\n",
      "    \"Overshoot\": 5.977862151701064,\n",
      "    \"Undershoot\": 0.0,\n",
      "    \"Peak\": 1.058821930048983,\n",
      "    \"PeakTime\": 0.021163106578396193,\n",
      "    \"SteadyStateValue\": 0.9990972723466923\n",
      "}\n",
      "{\n",
      "    \"zeta\": 0.6676116061208783,\n",
      "    \"wn\": 199.38848505176554,\n",
      "    \"Fn\": 1252.79479969805,\n",
      "    \"wd\": 148.44666788177528,\n",
      "    \"Fd\": 932.7179225345383\n",
      "}\n"
     ]
    },
    {
     "data": {
      "image/png": "[encoded data removed]",
      "text/plain": [
       "<Figure size 1440x720 with 1 Axes>"
      ]
     },
     "metadata": {
      "needs_background": "light"
     },
     "output_type": "display_data"
    }
   ],
   "source": [
    "G2_s = tf([wn**2],[1, 2 * zeta * wn, wn**2])\n",
    "print(G2_s)\n",
    "plt.figure(figsize=(20,10))\n",
    "step_out, t = step(G2_s)\n",
    "plt.plot(t, step_out)\n",
    "plt.grid()\n",
    "\n",
    "S = stepinfo(G2_s, t, SettlingTimeThreshold=SettlingTimeThreshold)\n",
    "fom = FOM(S, SettlingTimeThreshold)\n",
    "\n",
    "print(json.dumps(S, indent=4))\n",
    "print(json.dumps(fom, indent=4))"
   ]
  },
  {
   "cell_type": "code",
   "execution_count": 15,
   "metadata": {},
   "outputs": [
    {
     "name": "stdout",
     "output_type": "stream",
     "text": [
      "Pólo P1 -> [0.8753652363484555, 8.505367552405957°]\n",
      "Pólo P1 -> (0.8657379800012116+0.1294683242758982j)\n",
      "\n",
      "          1\n",
      "----------------------\n",
      "z^2 - 1.731 z + 0.7663\n",
      "\n",
      "dt = 0.001\n",
      "\n"
     ]
    }
   ],
   "source": [
    "# Representação polar\n",
    "Ts = 1/1000\n",
    "p1_r = np.exp(-Ts * fom['zeta'] * fom['wn'])\n",
    "p1_theta = np.degrees(Ts * fom['wd'])\n",
    "print(f'Pólo P1 -> [{p1_r}, {p1_theta}°]')\n",
    "\n",
    "# Representação retangular\n",
    "p1 = p1_r * np.exp(1j * Ts * fom['wd'])\n",
    "print(f'Pólo P1 -> {p1}')\n",
    "\n",
    "polo_dominante_desejado = tf(1, np.poly([p1, p1.conjugate()]), Ts)\n",
    "print(polo_dominante_desejado)\n",
    "# plt.figure(figsize=(20,10))\n",
    "# zplane(polo_dominante_desejado, color='blue')\n",
    "# zplane(G_z)"
   ]
  }
 ],
 "metadata": {
  "kernelspec": {
   "display_name": "Python 3",
   "language": "python",
   "name": "python3"
  },
  "language_info": {
   "codemirror_mode": {
    "name": "ipython",
    "version": 3
   },
   "file_extension": ".py",
   "mimetype": "text/x-python",
   "name": "python",
   "nbconvert_exporter": "python",
   "pygments_lexer": "ipython3",
   "version": "3.7.3"
  }
 },
 "nbformat": 4,
 "nbformat_minor": 2
}
