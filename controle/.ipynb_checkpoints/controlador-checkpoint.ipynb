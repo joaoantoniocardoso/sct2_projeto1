{
 "cells": [
  {
   "cell_type": "code",
   "execution_count": 1,
   "metadata": {},
   "outputs": [
    {
     "name": "stderr",
     "output_type": "stream",
     "text": [
      "/usr/lib/python3.7/site-packages/requests/__init__.py:91: RequestsDependencyWarning: urllib3 (1.25.2) or chardet (3.0.4) doesn't match a supported version!\n",
      "  RequestsDependencyWarning)\n"
     ]
    },
    {
     "name": "stdout",
     "output_type": "stream",
     "text": [
      "importing Jupyter notebook from planta.ipynb\n",
      "R2a = 33000.0\n",
      "R2b = 39000.0\n",
      "R1 = 17875.0\n",
      "R1 = 68000.0\n",
      "C1 = 7e-07\n",
      "C2 = 1e-07\n",
      "wn = 17.254152413997854\n",
      "\n",
      "        1.175e+04\n",
      "-------------------------\n",
      "s^2 + 100.9 s + 1.175e+04\n",
      "\n",
      "T.size: 100\n",
      "T.shape: (100,)\n",
      "yout.size: 100\n",
      "yout.shape: (100,)\n",
      "{\n",
      "    \"RiseTime\": 0.014011321365033157,\n",
      "    \"SettlingTime\": 0.049039624777616045,\n",
      "    \"SettlingMin\": 0.9277838533587892,\n",
      "    \"SettlingMax\": 1.1913022492293326,\n",
      "    \"Overshoot\": 19.24899706442737,\n",
      "    \"Undershoot\": 0.0,\n",
      "    \"Peak\": 1.1913022492293326,\n",
      "    \"PeakTime\": 0.03222603913957626,\n",
      "    \"SteadyStateValue\": 0.9990039988224811\n",
      "}\n",
      "v0 = 1.0 v\n",
      "vinf = 1.49 v\n",
      "deltav = 0.49 v\n",
      "v10 = 1.049 v\n",
      "v90 = 1.441 v\n",
      "t10 = 0.0048 s\n",
      "t90 = 0.0198 s\n",
      "RiseTime = 0.015000000000000003 s\n",
      "deltav = 0.49 v\n",
      "v50 = 1.245 v\n",
      "Delay = 0.012 s\n",
      "PeakTime = 0.0334 s\n",
      "PeakValue = 1.57 v\n",
      "OverShoot = 16.326530612244913 %\n",
      "sup_margin = 1.5145 v\n",
      "inf_margin = 1.4655 v\n",
      "SettlingTime = 0.0476 s\n",
      "zeta = 0.4997062054306522\n",
      "wn = 108.58948003681807\n",
      "zeta_check = 0.499706205430652\n",
      "\n",
      "        1.179e+04\n",
      "-------------------------\n",
      "s^2 + 108.5 s + 1.179e+04\n",
      "\n",
      "T.size: 100\n",
      "T.shape: (100,)\n",
      "yout.size: 100\n",
      "yout.shape: (100,)\n",
      "{\n",
      "    \"RiseTime\": 0.015636573668080377,\n",
      "    \"SettlingTime\": 0.04951581661558786,\n",
      "    \"SettlingMin\": 0.9506004297439166,\n",
      "    \"SettlingMax\": 1.1630480577561244,\n",
      "    \"Overshoot\": 16.375493607706204,\n",
      "    \"Undershoot\": 0.0,\n",
      "    \"Peak\": 1.1630480577561244,\n",
      "    \"PeakTime\": 0.03387924294750748,\n",
      "    \"SteadyStateValue\": 0.999392588337094\n",
      "}\n",
      "{\n",
      "    \"zeta\": 0.499086351341339,\n",
      "    \"wn\": 107.00927404875351,\n",
      "    \"Fn\": 672.3590984350818,\n",
      "    \"wd\": 92.72912793409755,\n",
      "    \"Fd\": 582.6342941830978\n",
      "}\n",
      "R2a = 33000.0\n",
      "R2b = 39000.0\n",
      "R1 = 17875.0\n",
      "R1 = 68000.0\n",
      "C1 = 7e-07\n",
      "C2 = 1e-07\n",
      "wn = 17.254152413997854\n",
      "\n",
      "        1.175e+04\n",
      "-------------------------\n",
      "s^2 + 100.9 s + 1.175e+04\n",
      "\n",
      "zeta = 0.4997062054306522\n",
      "wn = 108.58948003681807\n",
      "zeta_check = 0.499706205430652\n",
      "\n",
      "        1.179e+04\n",
      "-------------------------\n",
      "s^2 + 108.5 s + 1.179e+04\n",
      "\n",
      "v0 = 0.996 v\n",
      "vinf = 1.49 v\n",
      "deltav = 0.494 v\n",
      "v10 = 1.0453999999999999 v\n",
      "v90 = 1.4405999999999999 v\n",
      "t10 = 0.0006 s\n",
      "t90 = 0.00372 s\n",
      "RiseTime = 0.0031200000000000004 s\n",
      "deltav = 0.494 v\n",
      "v95 = 1.4653 v\n",
      "Delay = 0.00488 s\n",
      "tau = 0.0016289840193932303\n",
      "wn = 613.879564252867\n",
      "\n",
      "  613.9\n",
      "---------\n",
      "s + 613.9\n",
      "\n",
      "T.size: 100\n",
      "T.shape: (100,)\n",
      "yout.size: 100\n",
      "yout.shape: (100,)\n",
      "{\n",
      "    \"RiseTime\": 0.0035706013354376864,\n",
      "    \"SettlingTime\": 0.004952769594316791,\n",
      "    \"SettlingMin\": 0.9030280321355932,\n",
      "    \"SettlingMax\": 0.9990881180344453,\n",
      "    \"Overshoot\": 0.0,\n",
      "    \"Undershoot\": 0.0,\n",
      "    \"Peak\": 0.9990881180344453,\n",
      "    \"PeakTime\": 0.011402888135752612,\n",
      "    \"SteadyStateValue\": 0.9990881180344453\n",
      "}\n",
      "\n",
      "                7.239e+06\n",
      "-----------------------------------------\n",
      "s^3 + 722.4 s^2 + 7.841e+04 s + 7.239e+06\n",
      "\n",
      "T.size: 100\n",
      "T.shape: (100,)\n",
      "yout.size: 100\n",
      "yout.shape: (100,)\n",
      "{\n",
      "    \"RiseTime\": 0.015636573668080363,\n",
      "    \"SettlingTime\": 0.050818864421261184,\n",
      "    \"SettlingMin\": 0.9339053112958997,\n",
      "    \"SettlingMax\": 1.160441046696975,\n",
      "    \"Overshoot\": 16.101438379329213,\n",
      "    \"Undershoot\": 0.0,\n",
      "    \"Peak\": 1.160441046696975,\n",
      "    \"PeakTime\": 0.03518229075318082,\n",
      "    \"SteadyStateValue\": 0.9995061757164077\n",
      "}\n",
      "importing Jupyter notebook from requisitos.ipynb\n",
      "\n",
      "Requisitos do projeto {\n",
      "    \"SettlingTime\": 0.025409432210630592,\n",
      "    \"Overshoot\": 8.050719189664607\n",
      "}\n",
      "FOM: {\n",
      "    \"zeta\": 0.625623484936367,\n",
      "    \"wn\": 204.06911710315973,\n",
      "    \"Fn\": 1282.2040782316835,\n",
      "    \"wd\": 159.19945130113828,\n",
      "    \"Fd\": 1000.2796533263642\n",
      "}\n",
      "G_test = \n",
      "        4.164e+04\n",
      "-------------------------\n",
      "s^2 + 255.3 s + 4.164e+04\n",
      "\n",
      "T.size: 100\n",
      "T.shape: (100,)\n",
      "yout.size: 100\n",
      "yout.shape: (100,)\n",
      "{\n",
      "    \"RiseTime\": 0.010424382445386909,\n",
      "    \"SettlingTime\": 0.026060956113467273,\n",
      "    \"SettlingMin\": 0.9583677853631275,\n",
      "    \"SettlingMax\": 1.0804470089409501,\n",
      "    \"Overshoot\": 8.044706063997465,\n",
      "    \"Undershoot\": 0.0,\n",
      "    \"Peak\": 1.0804470089409501,\n",
      "    \"PeakTime\": 0.019545717085100455,\n",
      "    \"SteadyStateValue\": 0.99999995215034\n",
      "}\n",
      "{\n",
      "    \"SettlingTime\": 0.025409432210630592,\n",
      "    \"Overshoot\": 8.050719189664607\n",
      "}\n",
      "Fator de projeto para o SettlingTime: 2.5641025641025625 %\n",
      "Fator de projeto para o Overshoot: 0.07469054037881996 %\n",
      "Requisitos com fator {\n",
      "    \"SettlingTime\": 0.02475790830779391,\n",
      "    \"Overshoot\": 8.044706063997465\n",
      "}\n",
      "FOM: {\n",
      "    \"zeta\": 0.6257363852614588,\n",
      "    \"wn\": 209.40906145694285,\n",
      "    \"Fn\": 1315.7559381365304,\n",
      "    \"wd\": 163.3463133507129,\n",
      "    \"Fd\": 1026.335156027152\n",
      "}\n",
      "G_test = \n",
      "        4.385e+04\n",
      "-------------------------\n",
      "s^2 + 262.1 s + 4.385e+04\n",
      "\n",
      "T.size: 100\n",
      "T.shape: (100,)\n",
      "yout.size: 100\n",
      "yout.shape: (100,)\n",
      "{\n",
      "    \"RiseTime\": 0.009121334639713544,\n",
      "    \"SettlingTime\": 0.02475790830779391,\n",
      "    \"SettlingMin\": 0.9103241836393264,\n",
      "    \"SettlingMax\": 1.0802789387235257,\n",
      "    \"Overshoot\": 8.027894026813252,\n",
      "    \"Undershoot\": 0.0,\n",
      "    \"Peak\": 1.0802789387235257,\n",
      "    \"PeakTime\": 0.019545717085100455,\n",
      "    \"SteadyStateValue\": 0.9999999985701777\n",
      "}\n",
      "{\n",
      "    \"SettlingTime\": 0.025409432210630592,\n",
      "    \"Overshoot\": 8.050719189664607\n",
      "}\n",
      "Para um limites de 8 a 10 vezes, ws = 163.3463133507129 rad/s\n",
      "Considerando uma média na potência de 2 temos Fs = 1000 Hz\n",
      "Ts = 0.001 s\n",
      "ws = 6283.19 rad/s\n",
      "G_s = \n",
      "                7.239e+06\n",
      "-----------------------------------------\n",
      "s^3 + 722.4 s^2 + 7.841e+04 s + 7.239e+06\n",
      "\n",
      "G_z = \n",
      "0.001013 z^2 + 0.003402 z + 0.0007061\n",
      "-------------------------------------\n",
      "  z^3 - 2.427 z^2 + 1.918 z - 0.4856\n",
      "\n",
      "dt = 0.001\n",
      "\n",
      "Pólo P1 -> [0.8771871870799707, 9.359054354017301°]\n",
      "Pólo P1 -> (0.8655106224179596+0.14264895253365076j)\n",
      "\n",
      "          1\n",
      "----------------------\n",
      "z^2 - 1.731 z + 0.7695\n",
      "\n",
      "dt = 0.001\n",
      "\n",
      "The autoreload extension is already loaded. To reload it, use:\n",
      "  %reload_ext autoreload\n"
     ]
    },
    {
     "data": {
      "image/png": "[encoded data removed]",
      "text/plain": [
       "<Figure size 432x288 with 1 Axes>"
      ]
     },
     "metadata": {
      "needs_background": "light"
     },
     "output_type": "display_data"
    }
   ],
   "source": [
    "import import_ipynb\n",
    "from planta import *\n",
    "from requisitos import *\n",
    "\n",
    "# autoreload sets up auto reloading of modified .py modules\n",
    "import autoreload\n",
    "%load_ext autoreload\n",
    "%autoreload 2\n",
    "%reload_ext autoreload"
   ]
  },
  {
   "cell_type": "code",
   "execution_count": 2,
   "metadata": {},
   "outputs": [
    {
     "name": "stdout",
     "output_type": "stream",
     "text": [
      "\n",
      "0.001013 z^2 + 0.003402 z + 0.0007061\n",
      "-------------------------------------\n",
      "  z^3 - 2.427 z^2 + 1.918 z - 0.4856\n",
      "\n",
      "dt = 0.001\n",
      "\n",
      "zeros: [-3.13711442 -0.22222326]\n",
      "polos: [0.94299624+0.08896041j 0.94299624-0.08896041j 0.54124699+0.j        ]\n"
     ]
    },
    {
     "data": {
      "image/png": "[encoded data removed]",
      "text/plain": [
       "<Figure size 432x288 with 1 Axes>"
      ]
     },
     "metadata": {
      "needs_background": "light"
     },
     "output_type": "display_data"
    }
   ],
   "source": [
    "plt.figure(figsize=(20,10))\n",
    "zplane(G_z)\n",
    "print(G_z)\n",
    "print(f'zeros: {zero(G_z)}')\n",
    "print(f'polos: {pole(G_z)}')"
   ]
  },
  {
   "cell_type": "code",
   "execution_count": 3,
   "metadata": {},
   "outputs": [
    {
     "name": "stdout",
     "output_type": "stream",
     "text": [
      "Gd = ([[array([ 1.        , -1.88599248,  0.89715586])]], [[array([ 1, -1])]])\n",
      "2 states have been removed from the model\n",
      "Gg_z = \n",
      "0.001013 z^2 + 0.003402 z + 0.0007061\n",
      "-------------------------------------\n",
      "        z^2 - 1.541 z + 0.5412\n",
      "\n",
      "dt = 0.001\n",
      "\n"
     ]
    },
    {
     "data": {
      "image/png": "[encoded data removed]",
      "text/plain": [
       "<Figure size 432x288 with 1 Axes>"
      ]
     },
     "metadata": {
      "needs_background": "light"
     },
     "output_type": "display_data"
    }
   ],
   "source": [
    "z = zero(G_z)\n",
    "p = pole(G_z)\n",
    "\n",
    "integrador = tf([0, 1], [1, -1], Ts)\n",
    "cancelamento = tf(np.poly(pole(G_z)[0:2]), 1, Ts)\n",
    "H = 1\n",
    "plt.figure(figsize=(20,10))\n",
    "Gg_z = G_z * cancelamento * integrador\n",
    "print(f'Gd = {tfdata(cancelamento * integrador)}')\n",
    "zplane(Gg_z/(1 + (Gg_z * H)))\n",
    "Gg_z = minreal(Gg_z)\n",
    "print(f'Gg_z = {Gg_z}')"
   ]
  },
  {
   "cell_type": "code",
   "execution_count": 4,
   "metadata": {},
   "outputs": [
    {
     "data": {
      "text/plain": [
       "<matplotlib.legend.Legend at 0x7f985541cb00>"
      ]
     },
     "execution_count": 4,
     "metadata": {},
     "output_type": "execute_result"
    },
    {
     "data": {
      "image/png": "[encoded data removed]",
      "text/plain": [
       "<Figure size 432x288 with 1 Axes>"
      ]
     },
     "metadata": {
      "needs_background": "light"
     },
     "output_type": "display_data"
    }
   ],
   "source": [
    "plt.figure(figsize=(20,10))\n",
    "final_time = 5 * ReqFact['SettlingTime']\n",
    "T = np.arange(final_time / Ts) * Ts\n",
    "yout, T = step(G_z, T)\n",
    "plt.step(T, yout)\n",
    "yout, T = step(Gg_z / (1 + (Gg_z * H)), T)\n",
    "plt.step(T, yout)\n",
    "plt.legend(['original', 'anulado'])"
   ]
  },
  {
   "cell_type": "markdown",
   "metadata": {},
   "source": [
    "Identificamos os seus polos e zeros:"
   ]
  },
  {
   "cell_type": "code",
   "execution_count": 5,
   "metadata": {},
   "outputs": [
    {
     "name": "stdout",
     "output_type": "stream",
     "text": [
      "polos: [0.94299624+0.08896041j 0.94299624-0.08896041j 0.54124699+0.j        ]\n",
      "zeros: [-3.13711442 -0.22222326]\n"
     ]
    }
   ],
   "source": [
    "poles = pole(G_z)\n",
    "zeros = zero(G_z)\n",
    "\n",
    "print(f'polos: {poles}')\n",
    "print(f'zeros: {zeros}')"
   ]
  },
  {
   "cell_type": "markdown",
   "metadata": {},
   "source": [
    "Considerando a planta do controlador como:\n",
    "\n",
    "$$ \n",
    "    G_D(z) = K\\,\n",
    "    \\frac{(z+\\alpha)(z+\\alpha^*)}{(z-1)(z+\\beta)} $$"
   ]
  },
  {
   "cell_type": "code",
   "execution_count": 6,
   "metadata": {},
   "outputs": [
    {
     "name": "stdout",
     "output_type": "stream",
     "text": [
      "a = (0.942996238642726+0.08896041149575773j)\n"
     ]
    }
   ],
   "source": [
    "# alpha para cancelar o polo complexo do controlador\n",
    "alpha = pole(G_z)[0]\n",
    "print(f'a = {alpha}')"
   ]
  },
  {
   "cell_type": "markdown",
   "metadata": {},
   "source": [
    "Para que $P_1$ seja o lugar das raízes, a soma dos ângulos de polos e zeros em relação à $P_1$ deve ser igual a $\\pm$ 180°:"
   ]
  },
  {
   "cell_type": "code",
   "execution_count": 7,
   "metadata": {},
   "outputs": [
    {
     "name": "stdout",
     "output_type": "stream",
     "text": [
      "Ângulo dos polos: -2.2542774744995544 rad, -129.16058514023453°\n",
      "Ângulo dos zeros: -1.6878597011287606 rad, -96.7072372848905°\n",
      "Somatório dos ângulos: 0.5664177733707938 rad, 32.453347855344035°\n",
      "Ângulo que o polo do controlador deve fornecer: 1.0043785534241032 rad, 57.546652144655994°\n",
      "b = 0.641193772122912\n"
     ]
    },
    {
     "data": {
      "image/png": "[encoded data removed]",
      "text/plain": [
       "<Figure size 432x288 with 1 Axes>"
      ]
     },
     "metadata": {
      "needs_background": "light"
     },
     "output_type": "display_data"
    }
   ],
   "source": [
    "def wrap(angle):\n",
    "    return np.arctan(np.tan(angle))\n",
    "\n",
    "angle_zeros = np.sum(wrap(np.angle(p1 -zero(G_z * H * cancelamento * integrador))))\n",
    "angle_poles = np.sum(wrap(np.angle(p1 -pole(G_z * H * cancelamento * integrador))))\n",
    "angle_sum = angle_zeros - angle_poles\n",
    "alpha_angle = np.angle(alpha -alpha.conjugate())\n",
    "angle_beta = wrap(-np.pi - angle_sum -alpha_angle)\n",
    "\n",
    "print(f'Ângulo dos polos: {angle_poles} rad, {np.rad2deg(angle_poles)}°')\n",
    "print(f'Ângulo dos zeros: {angle_zeros} rad, {np.rad2deg(angle_zeros)}°')\n",
    "print(f'Somatório dos ângulos: {angle_sum} rad, {np.rad2deg(angle_sum)}°')\n",
    "print(f'Ângulo que o polo do controlador deve fornecer: {angle_beta} rad, {np.rad2deg(angle_beta)}°')\n",
    "\n",
    "# Considerando dois triângulos retângulos podemos:\n",
    "beta = ( p1.real +np.tan(angle_beta) * (-(p1).imag) )\n",
    "print(f'b = {beta}')\n",
    "\n",
    "Gd_z_over_k = tf(1, np.poly([beta]), Ts) * cancelamento * integrador\n",
    "plt.figure(figsize=(20,10))\n",
    "zplane(Gd_z_over_k, color='red')\n",
    "zplane(G_z)\n",
    "zplane(polo_dominante_desejado, color='blue')"
   ]
  },
  {
   "cell_type": "markdown",
   "metadata": {},
   "source": [
    "O ganho $K$ pode ser determinado pela condição de módulo:\n",
    "\n",
    "$$ |G_D(z) * G(z)|_{z = z1} = 1 $$"
   ]
  },
  {
   "cell_type": "code",
   "execution_count": 8,
   "metadata": {},
   "outputs": [
    {
     "name": "stdout",
     "output_type": "stream",
     "text": [
      "2 states have been removed from the model\n",
      "k = (4.148765765461027+6.746880173333975e-12j)\n",
      "k = 4.148765765461027\n",
      "3 states have been removed from the model\n",
      "FTMF(z) = \n",
      "0.004202 z^6 - 0.001734 z^5 - 0.02783 z^4 + 0.05027 z^3 - 0.02871 z^2 + 0.001449 z + 0.002358\n",
      "---------------------------------------------------------------------------------------------\n",
      "      z^7 - 5.95 z^6 + 15.11 z^5 - 21.21 z^4 + 17.73 z^3 - 8.818 z^2 + 2.407 z - 0.277\n",
      "\n",
      "dt = 0.001\n",
      "\n"
     ]
    },
    {
     "name": "stderr",
     "output_type": "stream",
     "text": [
      "/usr/lib/python3.7/site-packages/matplotlib/figure.py:98: MatplotlibDeprecationWarning: \n",
      "Adding an axes using the same arguments as a previous axes currently reuses the earlier instance.  In a future version, a new instance will always be created and returned.  Meanwhile, this warning can be suppressed, and the future behavior ensured, by passing a unique label to each axes instance.\n",
      "  \"Adding an axes using the same arguments as a previous axes \"\n"
     ]
    },
    {
     "data": {
      "image/png": "[encoded data removed]",
      "text/plain": [
       "<Figure size 432x288 with 1 Axes>"
      ]
     },
     "metadata": {
      "needs_background": "light"
     },
     "output_type": "display_data"
    }
   ],
   "source": [
    "FTMA_over_k = minreal(Gd_z_over_k * G_z * H)\n",
    "\n",
    "k = -np.polyval(FTMA_over_k.den[0][0], p1) / np.polyval(FTMA_over_k.num[0][0], p1)\n",
    "if np.abs(k.imag) > 1e-10:\n",
    "    print('Não há valor de k que garanta que P1 seja o lugar das raízes.')\n",
    "print(f'k = {k}')\n",
    "k = np.abs(k)\n",
    "print(f'k = {k}')\n",
    "\n",
    "Gd_z = k * Gd_z_over_k\n",
    "FTMD = Gd_z * G_z\n",
    "FTMA = FTMD * H\n",
    "\n",
    "FTMF = minreal(FTMD / (1 + FTMA))\n",
    "print(f'FTMF(z) = {FTMF}')\n",
    "plt.figure(figsize=(20,10))\n",
    "yout, _ = rlocus(FTMA_over_k, np.linspace(0, k, 1000))\n",
    "zplane(FTMF)\n",
    "zplane(polo_dominante_desejado, color='blue')"
   ]
  },
  {
   "cell_type": "code",
   "execution_count": 9,
   "metadata": {},
   "outputs": [
    {
     "data": {
      "text/plain": [
       "<matplotlib.legend.Legend at 0x7f985525ff98>"
      ]
     },
     "execution_count": 9,
     "metadata": {},
     "output_type": "execute_result"
    },
    {
     "data": {
      "image/png": "[encoded data removed]",
      "text/plain": [
       "<Figure size 432x288 with 1 Axes>"
      ]
     },
     "metadata": {
      "needs_background": "light"
     },
     "output_type": "display_data"
    }
   ],
   "source": [
    "plt.figure(figsize=(20,10))\n",
    "final_time = 5 * ReqFact['SettlingTime']\n",
    "T = np.arange(final_time / Ts) * Ts\n",
    "yout, T = step(G_z, T)\n",
    "plt.step(T, yout)\n",
    "yout, T = step(FTMF, T)\n",
    "plt.step(T, yout)\n",
    "plt.legend(['original', 'controlado'])"
   ]
  },
  {
   "cell_type": "code",
   "execution_count": 10,
   "metadata": {},
   "outputs": [
    {
     "name": "stdout",
     "output_type": "stream",
     "text": [
      "Gd(z) = \n",
      "4.149 z^2 - 7.825 z + 3.722\n",
      "---------------------------\n",
      "  z^2 - 1.641 z + 0.6412\n",
      "\n",
      "dt = 0.001\n",
      "\n",
      "\n",
      "-> Sem controlador:\n",
      "{\n",
      "    \"RiseTime\": 0.015636573668080363,\n",
      "    \"SettlingTime\": 0.050818864421261184,\n",
      "    \"SettlingMin\": 0.9339053112958997,\n",
      "    \"SettlingMax\": 1.160441046696975,\n",
      "    \"Overshoot\": 16.101438379329213,\n",
      "    \"Undershoot\": 0.0,\n",
      "    \"Peak\": 1.160441046696975,\n",
      "    \"PeakTime\": 0.03518229075318082,\n",
      "    \"SteadyStateValue\": 0.9995061757164077\n",
      "}\n",
      "\n",
      "-> Com controlador:\n",
      "{\n",
      "    \"RiseTime\": 0.009000000000000001,\n",
      "    \"SettlingTime\": 0.026000000000000002,\n",
      "    \"SettlingMin\": 0.9027008702790962,\n",
      "    \"SettlingMax\": 1.0770360467125784,\n",
      "    \"Overshoot\": 7.702625114499258,\n",
      "    \"Undershoot\": 0.0,\n",
      "    \"Peak\": 1.0770360467125784,\n",
      "    \"PeakTime\": 0.021,\n",
      "    \"SteadyStateValue\": 1.0000090950128424\n",
      "}\n",
      "\n",
      "-> Requisitos:\n",
      "{\n",
      "    \"SettlingTime\": 0.025409432210630592,\n",
      "    \"Overshoot\": 8.050719189664607\n",
      "}\n",
      "\n",
      "-> Requisitos com fator:\n",
      "{\n",
      "    \"SettlingTime\": 0.02475790830779391,\n",
      "    \"Overshoot\": 8.044706063997465\n",
      "}\n"
     ]
    }
   ],
   "source": [
    "print(f'Gd(z) = {Gd_z}')\n",
    "print('\\n-> Sem controlador:')\n",
    "print(json.dumps(S, indent=4))\n",
    "print('\\n-> Com controlador:')\n",
    "FTMF_info = mystepinfo(FTMF, SettlingTimeThreshold=SettlingTimeThreshold)\n",
    "print(json.dumps(FTMF_info, indent=4))\n",
    "print('\\n-> Requisitos:')\n",
    "print(json.dumps(Req, indent=4))\n",
    "print('\\n-> Requisitos com fator:')\n",
    "print(json.dumps(ReqFact, indent=4))"
   ]
  }
 ],
 "metadata": {
  "kernelspec": {
   "display_name": "Python 3",
   "language": "python",
   "name": "python3"
  },
  "language_info": {
   "codemirror_mode": {
    "name": "ipython",
    "version": 3
   },
   "file_extension": ".py",
   "mimetype": "text/x-python",
   "name": "python",
   "nbconvert_exporter": "python",
   "pygments_lexer": "ipython3",
   "version": "3.7.3"
  }
 },
 "nbformat": 4,
 "nbformat_minor": 2
}
