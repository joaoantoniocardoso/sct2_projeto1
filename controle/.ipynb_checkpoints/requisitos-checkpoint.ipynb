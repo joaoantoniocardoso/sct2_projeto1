{
 "cells": [
  {
   "cell_type": "code",
   "execution_count": 1,
   "metadata": {},
   "outputs": [
    {
     "name": "stderr",
     "output_type": "stream",
     "text": [
      "/usr/lib/python3.7/site-packages/requests/__init__.py:91: RequestsDependencyWarning: urllib3 (1.25.2) or chardet (3.0.4) doesn't match a supported version!\n",
      "  RequestsDependencyWarning)\n"
     ]
    },
    {
     "name": "stdout",
     "output_type": "stream",
     "text": [
      "importing Jupyter notebook from planta.ipynb\n",
      "R2a = 33000.0\n",
      "R2b = 39000.0\n",
      "R1 = 17875.0\n",
      "R1 = 68000.0\n",
      "C1 = 7e-07\n",
      "C2 = 1e-07\n",
      "wn = 17.254152413997854\n",
      "\n",
      "        1.175e+04\n",
      "-------------------------\n",
      "s^2 + 100.9 s + 1.175e+04\n",
      "\n",
      "T.size: 100\n",
      "T.shape: (100,)\n",
      "yout.size: 100\n",
      "yout.shape: (100,)\n",
      "{\n",
      "    \"RiseTime\": 0.014011321365033157,\n",
      "    \"SettlingTime\": 0.049039624777616045,\n",
      "    \"SettlingMin\": 0.9277838533587892,\n",
      "    \"SettlingMax\": 1.1913022492293326,\n",
      "    \"Overshoot\": 19.24899706442737,\n",
      "    \"Undershoot\": 0.0,\n",
      "    \"Peak\": 1.1913022492293326,\n",
      "    \"PeakTime\": 0.03222603913957626,\n",
      "    \"SteadyStateValue\": 0.9990039988224811\n",
      "}\n",
      "v0 = 1.0 v\n",
      "vinf = 1.49 v\n",
      "deltav = 0.49 v\n",
      "v10 = 1.049 v\n",
      "v90 = 1.441 v\n",
      "t10 = 0.0048 s\n",
      "t90 = 0.0198 s\n",
      "RiseTime = 0.015000000000000003 s\n",
      "deltav = 0.49 v\n",
      "v50 = 1.245 v\n",
      "Delay = 0.012 s\n",
      "PeakTime = 0.0334 s\n",
      "PeakValue = 1.57 v\n",
      "OverShoot = 16.326530612244913 %\n",
      "sup_margin = 1.5145 v\n",
      "inf_margin = 1.4655 v\n",
      "SettlingTime = 0.0476 s\n",
      "zeta = 0.4997062054306522\n",
      "wn = 108.58948003681807\n",
      "zeta_check = 0.499706205430652\n",
      "\n",
      "        1.179e+04\n",
      "-------------------------\n",
      "s^2 + 108.5 s + 1.179e+04\n",
      "\n",
      "T.size: 100\n",
      "T.shape: (100,)\n",
      "yout.size: 100\n",
      "yout.shape: (100,)\n",
      "{\n",
      "    \"RiseTime\": 0.015636573668080377,\n",
      "    \"SettlingTime\": 0.04951581661558786,\n",
      "    \"SettlingMin\": 0.9506004297439166,\n",
      "    \"SettlingMax\": 1.1630480577561244,\n",
      "    \"Overshoot\": 16.375493607706204,\n",
      "    \"Undershoot\": 0.0,\n",
      "    \"Peak\": 1.1630480577561244,\n",
      "    \"PeakTime\": 0.03387924294750748,\n",
      "    \"SteadyStateValue\": 0.999392588337094\n",
      "}\n",
      "{\n",
      "    \"zeta\": 0.499086351341339,\n",
      "    \"wn\": 107.00927404875351,\n",
      "    \"Fn\": 672.3590984350818,\n",
      "    \"wd\": 92.72912793409755,\n",
      "    \"Fd\": 582.6342941830978\n",
      "}\n",
      "R2a = 33000.0\n",
      "R2b = 39000.0\n",
      "R1 = 17875.0\n",
      "R1 = 68000.0\n",
      "C1 = 7e-07\n",
      "C2 = 1e-07\n",
      "wn = 17.254152413997854\n",
      "\n",
      "        1.175e+04\n",
      "-------------------------\n",
      "s^2 + 100.9 s + 1.175e+04\n",
      "\n",
      "zeta = 0.4997062054306522\n",
      "wn = 108.58948003681807\n",
      "zeta_check = 0.499706205430652\n",
      "\n",
      "        1.179e+04\n",
      "-------------------------\n",
      "s^2 + 108.5 s + 1.179e+04\n",
      "\n",
      "v0 = 0.996 v\n",
      "vinf = 1.49 v\n",
      "deltav = 0.494 v\n",
      "v10 = 1.0453999999999999 v\n",
      "v90 = 1.4405999999999999 v\n",
      "t10 = 0.0006 s\n",
      "t90 = 0.00372 s\n",
      "RiseTime = 0.0031200000000000004 s\n",
      "deltav = 0.494 v\n",
      "v95 = 1.4653 v\n",
      "Delay = 0.00488 s\n",
      "tau = 0.0016289840193932303\n",
      "wn = 613.879564252867\n",
      "\n",
      "  613.9\n",
      "---------\n",
      "s + 613.9\n",
      "\n",
      "T.size: 100\n",
      "T.shape: (100,)\n",
      "yout.size: 100\n",
      "yout.shape: (100,)\n",
      "{\n",
      "    \"RiseTime\": 0.0035706013354376864,\n",
      "    \"SettlingTime\": 0.004952769594316791,\n",
      "    \"SettlingMin\": 0.9030280321355932,\n",
      "    \"SettlingMax\": 0.9990881180344453,\n",
      "    \"Overshoot\": 0.0,\n",
      "    \"Undershoot\": 0.0,\n",
      "    \"Peak\": 0.9990881180344453,\n",
      "    \"PeakTime\": 0.011402888135752612,\n",
      "    \"SteadyStateValue\": 0.9990881180344453\n",
      "}\n",
      "\n",
      "                7.239e+06\n",
      "-----------------------------------------\n",
      "s^3 + 722.4 s^2 + 7.841e+04 s + 7.239e+06\n",
      "\n",
      "T.size: 100\n",
      "T.shape: (100,)\n",
      "yout.size: 100\n",
      "yout.shape: (100,)\n",
      "{\n",
      "    \"RiseTime\": 0.015636573668080363,\n",
      "    \"SettlingTime\": 0.050818864421261184,\n",
      "    \"SettlingMin\": 0.9339053112958997,\n",
      "    \"SettlingMax\": 1.160441046696975,\n",
      "    \"Overshoot\": 16.101438379329213,\n",
      "    \"Undershoot\": 0.0,\n",
      "    \"Peak\": 1.160441046696975,\n",
      "    \"PeakTime\": 0.03518229075318082,\n",
      "    \"SteadyStateValue\": 0.9995061757164077\n",
      "}\n",
      "\n"
     ]
    },
    {
     "data": {
      "image/png": "[encoded data removed]",
      "text/plain": [
       "<Figure size 432x288 with 1 Axes>"
      ]
     },
     "metadata": {
      "needs_background": "light"
     },
     "output_type": "display_data"
    }
   ],
   "source": [
    "import import_ipynb\n",
    "from planta import *\n",
    "\n",
    "# autoreload sets up auto reloading of modified .py modules\n",
    "import autoreload\n",
    "%load_ext autoreload\n",
    "%autoreload 2\n",
    "%reload_ext autoreload\n",
    "print('')"
   ]
  },
  {
   "cell_type": "markdown",
   "metadata": {},
   "source": [
    "# 4 PROJETO DE CONTROLADOR COM LUGAR DAS RAÍZES\n",
    "Especificações mínimas da resposta ao degrau:\n",
    "Degrau dde referência de 1,0 à 1,5 V:\n",
    "- Ts5% e Mp com metade do valor obtido em malha aberta;  \n",
    "- Erro nulo em regime permanente para resposta ao degrau;  \n",
    "- Estabilidade.\n"
   ]
  },
  {
   "cell_type": "code",
   "execution_count": 2,
   "metadata": {},
   "outputs": [
    {
     "name": "stdout",
     "output_type": "stream",
     "text": [
      "Requisitos do projeto {\n",
      "    \"SettlingTime\": 0.025409432210630592,\n",
      "    \"Overshoot\": 8.050719189664607\n",
      "}\n"
     ]
    }
   ],
   "source": [
    "Req = {\n",
    "    'SettlingTime': S['SettlingTime']/2,\n",
    "    'Overshoot': S['Overshoot']/2,\n",
    "}\n",
    "print(f'Requisitos do projeto {json.dumps(Req, indent=4)}')"
   ]
  },
  {
   "cell_type": "code",
   "execution_count": 3,
   "metadata": {},
   "outputs": [
    {
     "name": "stdout",
     "output_type": "stream",
     "text": [
      "FOM: {\n",
      "    \"zeta\": 0.625623484936367,\n",
      "    \"wn\": 204.06911710315973,\n",
      "    \"Fn\": 1282.2040782316835,\n",
      "    \"wd\": 159.19945130113828,\n",
      "    \"Fd\": 1000.2796533263642\n",
      "}\n"
     ]
    }
   ],
   "source": [
    "fom = FOM(Req, SettlingTimeThreshold)\n",
    "print(f'FOM: {json.dumps(fom, indent=4)}')"
   ]
  },
  {
   "cell_type": "markdown",
   "metadata": {},
   "source": [
    "## Testando local do polo dominante desejado"
   ]
  },
  {
   "cell_type": "code",
   "execution_count": 4,
   "metadata": {},
   "outputs": [
    {
     "name": "stdout",
     "output_type": "stream",
     "text": [
      "G_test = \n",
      "        4.164e+04\n",
      "-------------------------\n",
      "s^2 + 255.3 s + 4.164e+04\n",
      "\n",
      "T.size: 100\n",
      "T.shape: (100,)\n",
      "yout.size: 100\n",
      "yout.shape: (100,)\n",
      "{\n",
      "    \"RiseTime\": 0.010424382445386909,\n",
      "    \"SettlingTime\": 0.026060956113467273,\n",
      "    \"SettlingMin\": 0.9583677853631275,\n",
      "    \"SettlingMax\": 1.0804470089409501,\n",
      "    \"Overshoot\": 8.044706063997465,\n",
      "    \"Undershoot\": 0.0,\n",
      "    \"Peak\": 1.0804470089409501,\n",
      "    \"PeakTime\": 0.019545717085100455,\n",
      "    \"SteadyStateValue\": 0.99999995215034\n",
      "}\n",
      "{\n",
      "    \"SettlingTime\": 0.025409432210630592,\n",
      "    \"Overshoot\": 8.050719189664607\n",
      "}\n"
     ]
    },
    {
     "data": {
      "image/png": "[encoded data removed]",
      "text/plain": [
       "<Figure size 432x288 with 1 Axes>"
      ]
     },
     "metadata": {
      "needs_background": "light"
     },
     "output_type": "display_data"
    }
   ],
   "source": [
    "G_test = tf([fom['wn']**2], [1, 2 * fom['zeta'] * fom['wn'], fom['wn']**2])\n",
    "print(f'G_test = {G_test}')\n",
    "final_time = 2 * S['SettlingTime']\n",
    "T = np.arange(final_time / 1E-3) * 1E-3\n",
    "yout, T = step(G_test, T)\n",
    "plt.figure(figsize=(20,10))\n",
    "plt.plot(T, yout)\n",
    "S_test = stepinfo(G_test, t, SettlingTimeThreshold=SettlingTimeThreshold)\n",
    "print(json.dumps(S_test, indent=4))\n",
    "print(json.dumps(Req, indent=4))"
   ]
  },
  {
   "cell_type": "markdown",
   "metadata": {},
   "source": [
    "# Localização dos Polos dominantes desejados considerando fator de projeto"
   ]
  },
  {
   "cell_type": "code",
   "execution_count": 5,
   "metadata": {},
   "outputs": [
    {
     "name": "stdout",
     "output_type": "stream",
     "text": [
      "Fator de projeto para o SettlingTime: 2.5641025641025625 %\n",
      "Fator de projeto para o Overshoot: 0.07469054037881996 %\n",
      "Requisitos com fator {\n",
      "    \"SettlingTime\": 0.02475790830779391,\n",
      "    \"Overshoot\": 8.044706063997465\n",
      "}\n"
     ]
    }
   ],
   "source": [
    "fator_adicional = 0# 0.25 # 0.08\n",
    "fator_de_projeto_settling_time = np.abs(fator_adicional + (S_test['SettlingTime'] -Req['SettlingTime']) / Req['SettlingTime'])\n",
    "fator_de_projeto_overshoot = np.abs((fator_adicional*20 + S_test['Overshoot'] -Req['Overshoot']) / Req['Overshoot'])\n",
    "print(f'Fator de projeto para o SettlingTime: {100 * fator_de_projeto_settling_time} %')\n",
    "print(f'Fator de projeto para o Overshoot: {100 * fator_de_projeto_overshoot} %')\n",
    "ReqFact = {\n",
    "    'SettlingTime': Req['SettlingTime'] * (1 - fator_de_projeto_settling_time),\n",
    "    'Overshoot': Req['Overshoot'] * (1 - fator_de_projeto_overshoot),\n",
    "}\n",
    "print(f'Requisitos com fator {json.dumps(ReqFact, indent=4)}')"
   ]
  },
  {
   "cell_type": "code",
   "execution_count": 6,
   "metadata": {},
   "outputs": [
    {
     "name": "stdout",
     "output_type": "stream",
     "text": [
      "FOM: {\n",
      "    \"zeta\": 0.6257363852614588,\n",
      "    \"wn\": 209.40906145694285,\n",
      "    \"Fn\": 1315.7559381365304,\n",
      "    \"wd\": 163.3463133507129,\n",
      "    \"Fd\": 1026.335156027152\n",
      "}\n"
     ]
    }
   ],
   "source": [
    "fom = FOM(ReqFact, SettlingTimeThreshold)\n",
    "print(f'FOM: {json.dumps(fom, indent=4)}')"
   ]
  },
  {
   "cell_type": "code",
   "execution_count": 7,
   "metadata": {},
   "outputs": [
    {
     "name": "stdout",
     "output_type": "stream",
     "text": [
      "G_test = \n",
      "        4.385e+04\n",
      "-------------------------\n",
      "s^2 + 262.1 s + 4.385e+04\n",
      "\n",
      "T.size: 100\n",
      "T.shape: (100,)\n",
      "yout.size: 100\n",
      "yout.shape: (100,)\n",
      "{\n",
      "    \"RiseTime\": 0.009121334639713544,\n",
      "    \"SettlingTime\": 0.02475790830779391,\n",
      "    \"SettlingMin\": 0.9103241836393264,\n",
      "    \"SettlingMax\": 1.0802789387235257,\n",
      "    \"Overshoot\": 8.027894026813252,\n",
      "    \"Undershoot\": 0.0,\n",
      "    \"Peak\": 1.0802789387235257,\n",
      "    \"PeakTime\": 0.019545717085100455,\n",
      "    \"SteadyStateValue\": 0.9999999985701777\n",
      "}\n",
      "{\n",
      "    \"SettlingTime\": 0.025409432210630592,\n",
      "    \"Overshoot\": 8.050719189664607\n",
      "}\n"
     ]
    },
    {
     "data": {
      "image/png": "[encoded data removed]",
      "text/plain": [
       "<Figure size 432x288 with 1 Axes>"
      ]
     },
     "metadata": {
      "needs_background": "light"
     },
     "output_type": "display_data"
    }
   ],
   "source": [
    "G_test_fact =  tf([fom['wn']**2], [1, 2 * fom['zeta'] * fom['wn'], fom['wn']**2])\n",
    "print(f'G_test = {G_test_fact}')\n",
    "final_time = 2 * S['SettlingTime']\n",
    "T = np.arange(final_time / 1E-3) * 1E-3\n",
    "yout, T = step(G_test_fact, T)\n",
    "plt.figure(figsize=(20,10))\n",
    "plt.plot(T, yout)\n",
    "S_test_fact = stepinfo(G_test_fact, t, SettlingTimeThreshold=SettlingTimeThreshold)\n",
    "print(json.dumps(S_test_fact, indent=4))\n",
    "print(json.dumps(Req, indent=4))"
   ]
  },
  {
   "cell_type": "markdown",
   "metadata": {},
   "source": [
    "## Período de amostragem"
   ]
  },
  {
   "cell_type": "code",
   "execution_count": 8,
   "metadata": {},
   "outputs": [
    {
     "name": "stdout",
     "output_type": "stream",
     "text": [
      "Para um limites de 8 a 10 vezes, ws = 163.3463133507129 rad/s\n",
      "Considerando uma média na potência de 2 temos Fs = 1000 Hz\n",
      "Ts = 0.001 s\n",
      "ws = 6283.19 rad/s\n"
     ]
    }
   ],
   "source": [
    "# calcula o ws recomendado com base nas razões recomendadas de ws/wd\n",
    "w_ratio = np.array([10, 15])\n",
    "ws = w_ratio * fom['wd']\n",
    "print(f\"Para um limites de 8 a 10 vezes, ws = {fom['wd']} rad/s\")\n",
    "Ts = 2 * np.pi / ws\n",
    "Fs = 1 / Ts\n",
    "# Fs = round(np.mean(2 * np.ceil(Fs / 2)))\n",
    "# Fs = 2**np.ceil(np.log2(np.mean(Fs))) * 2\n",
    "Fs = 1000\n",
    "print(f'Considerando uma média na potência de 2 temos Fs = {Fs} Hz')\n",
    "Ts = 1 / Fs\n",
    "print(f'Ts = {round(Ts, 5)} s')\n",
    "ws = 2 * np.pi / Ts\n",
    "print(f'ws = {round(ws, 2)} rad/s')"
   ]
  },
  {
   "cell_type": "markdown",
   "metadata": {},
   "source": [
    "Obtemos a função de transferência pulsada ($ G_z $):"
   ]
  },
  {
   "cell_type": "code",
   "execution_count": 9,
   "metadata": {},
   "outputs": [
    {
     "name": "stdout",
     "output_type": "stream",
     "text": [
      "G_s = \n",
      "                7.239e+06\n",
      "-----------------------------------------\n",
      "s^3 + 722.4 s^2 + 7.841e+04 s + 7.239e+06\n",
      "\n",
      "G_z = \n",
      "0.001013 z^2 + 0.003402 z + 0.0007061\n",
      "-------------------------------------\n",
      "  z^3 - 2.427 z^2 + 1.918 z - 0.4856\n",
      "\n",
      "dt = 0.001\n",
      "\n"
     ]
    }
   ],
   "source": [
    "print(f'G_s = {G_s}')\n",
    "G_z = c2d(G_s, Ts)\n",
    "print(f'G_z = {G_z}')"
   ]
  },
  {
   "cell_type": "markdown",
   "metadata": {},
   "source": [
    "Verificando resposta ao impulso comparativamente com a função de transferência contínua:"
   ]
  },
  {
   "cell_type": "code",
   "execution_count": 10,
   "metadata": {},
   "outputs": [
    {
     "data": {
      "text/plain": [
       "[<matplotlib.lines.Line2D at 0x7fc30c45ff60>]"
      ]
     },
     "execution_count": 10,
     "metadata": {},
     "output_type": "execute_result"
    },
    {
     "data": {
      "image/png": "[encoded data removed]",
      "text/plain": [
       "<Figure size 432x288 with 1 Axes>"
      ]
     },
     "metadata": {
      "needs_background": "light"
     },
     "output_type": "display_data"
    }
   ],
   "source": [
    "final_time = 2 * S['SettlingTime']\n",
    "T = np.arange(final_time / Ts) * Ts\n",
    "yout, T = step(G_s, T)\n",
    "plt.figure(figsize=(20,10))\n",
    "plt.plot(T, yout)\n",
    "yout, T = step(G_z, T)\n",
    "plt.step(T, yout)"
   ]
  },
  {
   "cell_type": "code",
   "execution_count": 11,
   "metadata": {},
   "outputs": [
    {
     "name": "stdout",
     "output_type": "stream",
     "text": [
      "Pólo P1 -> [0.8771871870799707, 9.359054354017301°]\n",
      "Pólo P1 -> (0.8655106224179596+0.14264895253365076j)\n",
      "\n",
      "          1\n",
      "----------------------\n",
      "z^2 - 1.731 z + 0.7695\n",
      "\n",
      "dt = 0.001\n",
      "\n"
     ]
    },
    {
     "data": {
      "image/png": "[encoded data removed]",
      "text/plain": [
       "<Figure size 432x288 with 1 Axes>"
      ]
     },
     "metadata": {
      "needs_background": "light"
     },
     "output_type": "display_data"
    }
   ],
   "source": [
    "# Representação polar\n",
    "p1_r = np.exp(-Ts * fom['zeta'] * fom['wn'])\n",
    "p1_theta = np.degrees(Ts * fom['wd'])\n",
    "print(f'Pólo P1 -> [{p1_r}, {p1_theta}°]')\n",
    "\n",
    "# Representação retangular\n",
    "p1 = p1_r * np.exp(1j * Ts * fom['wd'])\n",
    "print(f'Pólo P1 -> {p1}')\n",
    "\n",
    "polo_dominante_desejado = tf(1, np.poly([p1, p1.conjugate()]), Ts)\n",
    "print(polo_dominante_desejado)\n",
    "plt.figure(figsize=(20,10))\n",
    "zplane(polo_dominante_desejado, color='blue')\n",
    "zplane(G_z)"
   ]
  }
 ],
 "metadata": {
  "kernelspec": {
   "display_name": "Python 3",
   "language": "python",
   "name": "python3"
  },
  "language_info": {
   "codemirror_mode": {
    "name": "ipython",
    "version": 3
   },
   "file_extension": ".py",
   "mimetype": "text/x-python",
   "name": "python",
   "nbconvert_exporter": "python",
   "pygments_lexer": "ipython3",
   "version": "3.7.3"
  }
 },
 "nbformat": 4,
 "nbformat_minor": 2
}
