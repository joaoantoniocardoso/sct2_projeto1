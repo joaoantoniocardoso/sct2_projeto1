{
 "cells": [
  {
   "cell_type": "code",
   "execution_count": 20,
   "metadata": {},
   "outputs": [],
   "source": [
    "import control\n",
    "from control.matlab import *\n",
    "import numpy as np\n",
    "import sympy as sp\n",
    "import json\n",
    "import matplotlib.pyplot as plt\n",
    "import matplotlib as mpl\n",
    "mpl.rcParams['lines.linewidth'] = 1\n",
    "mpl.rcParams['lines.markersize'] = 1\n",
    "%matplotlib inline\n",
    "\n",
    "def mystepinfo(sys, t=None, SettlingTimeThreshold=0.02, RiseTimeLimits=[0.1,0.9]):\n",
    "#     sys = control.timeresp._get_ss_simo(sys)\n",
    "    \n",
    "    t, step_out = control.step_response(sys, t)\n",
    "    step_out = step_out.flatten()\n",
    "        \n",
    "    # Steady state value\n",
    "    InfValue = step_out[-1]\n",
    "    \n",
    "    # RiseTime\n",
    "    tr_lower_index = (np.where(step_out >= RiseTimeLimits[0] * InfValue)[0])[0]\n",
    "    tr_upper_index = (np.where(step_out >= RiseTimeLimits[1] * InfValue)[0])[0]\n",
    "    RiseTime = t[tr_upper_index] - t[tr_lower_index]\n",
    "\n",
    "    # SettlingTime\n",
    "    sup_margin = (1. + SettlingTimeThreshold) * InfValue\n",
    "    inf_margin = (1. - SettlingTimeThreshold) * InfValue\n",
    "    SettlingTime = 0\n",
    "    for i in reversed(range(t.size)):\n",
    "        if (step_out[i] <= inf_margin) | (step_out[i] >= sup_margin):\n",
    "            if t.size > i + 1:\n",
    "                i += 1\n",
    "            SettlingTime = t[i]\n",
    "            break\n",
    "    \n",
    "    # Peak\n",
    "    PeakIndex = np.abs(step_out).argmax()\n",
    "    PeakValue = step_out[PeakIndex]\n",
    "    PeakTime = t[PeakIndex]\n",
    "    SettlingMax = (step_out).max()\n",
    "    SettlingMin = (step_out[tr_upper_index:]).min()\n",
    "    UnderShoot = step_out.min()\n",
    "    OverShoot = 100. * (step_out.max() -InfValue) / (InfValue -step_out[0])\n",
    "    \n",
    "    S = {\n",
    "        'RiseTime': RiseTime,\n",
    "        'SettlingTime': SettlingTime,\n",
    "        'SettlingMin': SettlingMin,\n",
    "        'SettlingMax': SettlingMax,\n",
    "        'Overshoot': OverShoot,\n",
    "        'Undershoot': UnderShoot,\n",
    "        'Peak': PeakValue,\n",
    "        'PeakTime': PeakTime,\n",
    "        'SteadyStateValue': InfValue\n",
    "    }\n",
    "\n",
    "    return S\n",
    "\n",
    "def FOM(S, SettlingTimeThreshold):\n",
    "    # calcula o zeta necessário usando Mp\n",
    "    zeta = -np.log(S['Overshoot'] / 100.) / np.sqrt( np.pi**2 + np.log(S['Overshoot'] / 100.)**2 )\n",
    "    \n",
    "    # calcula o wn necessário usando zeta\n",
    "    try:\n",
    "        wn = np.pi / (S['PeakTime'] * np.sqrt(1 - zeta**2) )\n",
    "    except:\n",
    "        wn = - np.log(SettlingTimeThreshold * np.sqrt(1 - zeta**2)) / (S['SettlingTime'] * zeta)\n",
    "    Fn = wn * 2 * np.pi\n",
    "    wd = wn * np.sqrt(1 - zeta**2)\n",
    "    Fd = wd * 2 * np.pi\n",
    "    \n",
    "    FOM = {\n",
    "        'zeta': zeta,\n",
    "        'wn': wn,\n",
    "        'Fn': Fn,\n",
    "        'wd': wd,\n",
    "        'Fd': Fd\n",
    "    }\n",
    "    return FOM\n",
    "\n",
    "def zplane(sys, color='black'):\n",
    "    t = np.arange(-np.pi, np.pi, 0.01)\n",
    "    ax = np.arange(-1.1, 1.1, 0.01)\n",
    "    plt.plot(np.cos(t), np.sin(t), lw=1)\n",
    "    plt.plot(ax, ax * 0, color='black', lw=1)\n",
    "    plt.plot(ax * 0, ax, color='black', lw=1)\n",
    "\n",
    "    for p in pole(sys):\n",
    "        plt.scatter(p.real, p.imag, marker='x', color=color, lw=1)\n",
    "    for z in zero(sys):\n",
    "        plt.scatter(z.real, z.imag, marker='o', facecolors='none', color=color, lw=1)\n"
   ]
  },
  {
   "cell_type": "markdown",
   "metadata": {},
   "source": [
    "# 1. BLOCO DE SEGUNDA ORDEM\n",
    "\n",
    "[!bloco_segunda_ordem]()\n",
    "\n",
    "A função de transferência do bloco de segunda ordem é:\n",
    "\n",
    "$$ G_2(s) = \\frac{(2\\pi\\,w_n)^2}{s^2 +2\\zeta(2\\pi\\,w_n)s +(2\\pi\\,w_n)^2} $$  \n",
    "\n",
    "$$ w_n = \\frac{1}{2\\pi \\sqrt{R_1 C_1 R_2 C_2}} $$\n",
    "\n",
    "$$ R_1= \\frac{(R_{1a} R_{1b})}{(R_{1a} + R_{1b})} $$\n",
    "$$ R_{1a} = 33 \\,k\\Omega \\pm 10\\% $$\n",
    "$$ R_{1b} = 39 \\, k\\Omega \\pm 10\\% $$\n",
    "$$ R_{2} = 68 \\, k\\Omega \\pm 10\\% $$\n",
    "$$ C_{1} = 700 \\, nF \\pm 20\\% $$\n",
    "$$ C_{2} = 100 \\, nF \\pm 20\\% $$"
   ]
  },
  {
   "cell_type": "code",
   "execution_count": null,
   "metadata": {},
   "outputs": [],
   "source": [
    "Rvar = 0.2\n",
    "# Rvar_range = np.linspace(1 - Rvar, 1 + Rvar)\n",
    "Rvar_range = np.array([1 - Rvar, 1 + Rvar])\n",
    "\n",
    "Cvar = 0.2\n",
    "# Cvar_range = np.linspace(1 - Cvar, 1 + Cvar)\n",
    "Cvar_range = np.array([1 - Cvar, 1 + Cvar])\n",
    "\n",
    "from random import shuffle\n",
    "k = 0\n",
    "for k in range(200):\n",
    "    R2a = 33e3 * Rvar_range\n",
    "    R2b = 39e3 * Rvar_range\n",
    "    np.random.shuffle(R2a)\n",
    "    np.random.shuffle(R2a)\n",
    "    R2 = (R2a * R2b) / (R2a + R2b)\n",
    "    R1 = 68e3 * Rvar_range\n",
    "    C1 = 700e-9 * Cvar_range\n",
    "    C2 = 100e-9 * Cvar_range\n",
    "    \n",
    "#     wn = 1 / (2 * np.pi * np.sqrt(R1 * C1 * R2 * C2))\n",
    "    \n",
    "    np.random.shuffle(R1)\n",
    "    np.random.shuffle(C2)\n",
    "    np.random.shuffle(C1)\n",
    "    \n",
    "    a = 1/(R1*C1*R2*C2)\n",
    "    b = 1/(R1*C1)\n",
    "    c = 1/(R2*C1)\n",
    "\n",
    "    for a_,b_,c_ in zip(a,b,c):\n",
    "        G2_s = tf([a_], [1, b_ + c_, a_])\n",
    "\n",
    "        step_out, t = step(G2_s)\n",
    "        plt.plot(t, step_out, color='gray')\n",
    "\n",
    "R2a = 33e3\n",
    "print(f'R2a = {R2a}')\n",
    "R2b = 39e3\n",
    "print(f'R2b = {R2b}')\n",
    "R2 = (R2a * R2b) / (R2a + R2b)\n",
    "print(f'R1 = {R2}')\n",
    "R1 = 68e3\n",
    "print(f'R1 = {R1}')\n",
    "C1 = 700e-9\n",
    "print(f'C1 = {C1}')\n",
    "C2 = 100e-9\n",
    "print(f'C2 = {C2}')\n",
    "wn = 1 / (2 * np.pi * np.sqrt(R1 * C1 * R2 * C2))\n",
    "print(f'wn = {wn}')\n",
    "a = 2 * np.pi * wn\n",
    "G2_s = tf([1 / (R1*C1*R2*C2)], [1, 1/(R1*C1) +1/(R2*C1), 1 / (R1*C1*R2*C2)])\n",
    "print(G2_s)\n",
    "\n",
    "step_out, t = step(G2_s)\n",
    "plt.plot(t, step_out, label='Valor Nominal')\n",
    "plt.grid()\n",
    "SettlingTimeThreshold = 0.05\n",
    "S = stepinfo(G2_s, t, SettlingTimeThreshold=SettlingTimeThreshold)\n",
    "plt.legend()\n",
    "print(json.dumps(S, indent=4))"
   ]
  },
  {
   "cell_type": "markdown",
   "metadata": {},
   "source": [
    "## 1.1 RESPOSTA AO DEGARU\n",
    "![Resposta ao Degrau](SCT2_bloco2/completo/ALL0001/F0001TEK.JPG)"
   ]
  },
  {
   "cell_type": "markdown",
   "metadata": {},
   "source": [
    "## 1.2 TEMPO DE SUBIDA\n",
    "![Tempo de Subida](SCT2_bloco2/completo/ALL0003/F0003TEK.JPG)"
   ]
  },
  {
   "cell_type": "code",
   "execution_count": 6,
   "metadata": {},
   "outputs": [
    {
     "name": "stdout",
     "output_type": "stream",
     "text": [
      "v0 = 1.01 v\n",
      "vinf = 1.5 v\n",
      "deltav = 0.49 v\n",
      "v10 = 1.059 v\n",
      "v90 = 1.451 v\n",
      "t10 = 0.0066 s\n",
      "t90 = 0.0218 s\n",
      "RiseTime = 0.0152 s\n"
     ]
    }
   ],
   "source": [
    "v0 = 1.01\n",
    "print(f'v0 = {v0} v')\n",
    "vinf = 1.5\n",
    "print(f'vinf = {vinf} v')\n",
    "\n",
    "deltav = vinf - v0\n",
    "print(f'deltav = {deltav} v')\n",
    "\n",
    "v10 = deltav * 0.1 + v0\n",
    "v90 = deltav * 0.9 + v0\n",
    "print(f'v10 = {v10} v')\n",
    "print(f'v90 = {v90} v')\n",
    "\n",
    "t10 = 6.60e-3\n",
    "t90 = 21.8e-3\n",
    "print(f't10 = {t10} s')\n",
    "print(f't90 = {t90} s')\n",
    "RiseTime = t90 - t10\n",
    "print(f'RiseTime = {RiseTime} s')"
   ]
  },
  {
   "cell_type": "markdown",
   "metadata": {},
   "source": [
    "## 1.3 TEMPO DE ATRASO\n",
    "![Tempo de Atraso](SCT2_bloco2/completo/ALL0004/F0004TEK.JPG)"
   ]
  },
  {
   "cell_type": "code",
   "execution_count": 8,
   "metadata": {},
   "outputs": [
    {
     "name": "stdout",
     "output_type": "stream",
     "text": [
      "v0 = 1.0 v\n",
      "vinf = 1.49 v\n",
      "deltav = 0.49 v\n",
      "v50 = 1.245 v\n",
      "Delay = 0.0138 s\n"
     ]
    }
   ],
   "source": [
    "v0 = 1.00\n",
    "print(f'v0 = {v0} v')\n",
    "vinf = 1.49\n",
    "print(f'vinf = {vinf} v')\n",
    "\n",
    "deltav = vinf - v0\n",
    "print(f'deltav = {deltav} v')\n",
    "\n",
    "v50 = deltav * 0.5 + v0\n",
    "print(f'v50 = {v50} v')\n",
    "t50 = 13.8e-3\n",
    "print(f'Delay = {t50} s')"
   ]
  },
  {
   "cell_type": "markdown",
   "metadata": {},
   "source": [
    "## 1.4 PICO E TEMPO DE PICO\n",
    "![Pico e Tempo de Pico](SCT2_bloco2/completo/ALL0005/F0005TEK.JPG)"
   ]
  },
  {
   "cell_type": "code",
   "execution_count": 14,
   "metadata": {},
   "outputs": [
    {
     "name": "stdout",
     "output_type": "stream",
     "text": [
      "PeakTime = 0.0351 s\n",
      "PeakValue = 1.57 v\n",
      "OverShoot = 16.326530612244913 %\n"
     ]
    }
   ],
   "source": [
    "PeakTime = 35.1e-3\n",
    "print(f'PeakTime = {PeakTime} s')\n",
    "\n",
    "PeakValue = 1.57\n",
    "print(f'PeakValue = {PeakValue} v')\n",
    "\n",
    "OverShoot = 100 * (PeakValue - vinf) / (vinf - v0)\n",
    "print(f'OverShoot = {OverShoot} %')"
   ]
  },
  {
   "cell_type": "markdown",
   "metadata": {},
   "source": [
    "## 1.5 TEMPO DE ACOMODAÇÃO\n",
    "![Tempo de Acomodação](SCT2_bloco2/completo/ALL0006/F0006TEK.JPG)"
   ]
  },
  {
   "cell_type": "code",
   "execution_count": 17,
   "metadata": {},
   "outputs": [
    {
     "name": "stdout",
     "output_type": "stream",
     "text": [
      "sup_margin = 1.5145 v\n",
      "inf_margin = 1.4655 v\n",
      "SettlingTime = 0.0492 s\n"
     ]
    }
   ],
   "source": [
    "SettlingTimeThreshold = 0.05\n",
    "sup_margin = (1. + SettlingTimeThreshold) * deltav +v0\n",
    "inf_margin = (1. - SettlingTimeThreshold) * deltav +v0\n",
    "print(f'sup_margin = {sup_margin} v')\n",
    "print(f'inf_margin = {inf_margin} v')\n",
    "SettlingTime = 49.2e-3\n",
    "print(f'SettlingTime = {SettlingTime} s')"
   ]
  },
  {
   "cell_type": "markdown",
   "metadata": {},
   "source": [
    "## 1.6 FUNÇÃO DE TRANSFERÊNCIA EQUIVALENTE"
   ]
  },
  {
   "cell_type": "code",
   "execution_count": 18,
   "metadata": {},
   "outputs": [
    {
     "name": "stdout",
     "output_type": "stream",
     "text": [
      "zeta = 0.4997062054306522\n",
      "wn = 103.33016049087533\n",
      "zeta_check = 0.4997062054306522\n"
     ]
    }
   ],
   "source": [
    "zeta = -np.log(OverShoot / 100.) / np.sqrt(  (-np.pi)**2 + (np.log(OverShoot / 100.))**2  )\n",
    "wn = np.pi / (PeakTime * np.sqrt(1 - zeta**2) )\n",
    "print(f'zeta = {zeta}')\n",
    "print(f'wn = {wn}')\n",
    "zeta_check = np.sqrt(1 - ((np.pi)/(wn * PeakTime))**2)\n",
    "print(f'zeta_check = {zeta_check}')"
   ]
  },
  {
   "cell_type": "code",
   "execution_count": 21,
   "metadata": {},
   "outputs": [
    {
     "name": "stdout",
     "output_type": "stream",
     "text": [
      "\n",
      "        1.068e+04\n",
      "-------------------------\n",
      "s^2 + 103.3 s + 1.068e+04\n",
      "\n",
      "T.size: 100\n",
      "T.shape: (100,)\n",
      "yout.size: 100\n",
      "yout.shape: (100,)\n",
      "{\n",
      "    \"RiseTime\": 0.016432447178132373,\n",
      "    \"SettlingTime\": 0.05203608273075251,\n",
      "    \"SettlingMin\": 0.950600429743916,\n",
      "    \"SettlingMax\": 1.1630480577561229,\n",
      "    \"Overshoot\": 16.37549360770609,\n",
      "    \"Undershoot\": 0.0,\n",
      "    \"Peak\": 1.1630480577561229,\n",
      "    \"PeakTime\": 0.03560363555262014,\n",
      "    \"SteadyStateValue\": 0.9993925883370937\n",
      "}\n",
      "{\n",
      "    \"zeta\": 0.49908635134134044,\n",
      "    \"wn\": 101.82648869596498,\n",
      "    \"Fn\": 639.7946976561755,\n",
      "    \"wd\": 88.23797358971105,\n",
      "    \"Fd\": 554.4155391941728\n",
      "}\n"
     ]
    },
    {
     "data": {
      "image/png": "[encoded data removed]",
      "text/plain": [
       "<Figure size 432x288 with 1 Axes>"
      ]
     },
     "metadata": {
      "needs_background": "light"
     },
     "output_type": "display_data"
    }
   ],
   "source": [
    "G2_s = tf([wn**2],[1, 2 * zeta * wn, wn**2])\n",
    "print(G2_s)\n",
    "\n",
    "step_out, t = step(G2_s)\n",
    "plt.plot(t, step_out)\n",
    "plt.grid()\n",
    "\n",
    "S = stepinfo(G2_s, t, SettlingTimeThreshold=SettlingTimeThreshold)\n",
    "\n",
    "print(json.dumps(S, indent=4))\n",
    "print(json.dumps(FOM(S, SettlingTimeThreshold), indent=4))"
   ]
  }
 ],
 "metadata": {
  "kernelspec": {
   "display_name": "Python 3",
   "language": "python",
   "name": "python3"
  },
  "language_info": {
   "codemirror_mode": {
    "name": "ipython",
    "version": 3
   },
   "file_extension": ".py",
   "mimetype": "text/x-python",
   "name": "python",
   "nbconvert_exporter": "python",
   "pygments_lexer": "ipython3",
   "version": "3.7.3"
  }
 },
 "nbformat": 4,
 "nbformat_minor": 2
}
